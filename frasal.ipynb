{
  "nbformat": 4,
  "nbformat_minor": 0,
  "metadata": {
    "colab": {
      "name": "frasal.ipynb",
      "provenance": [],
      "collapsed_sections": [],
      "authorship_tag": "ABX9TyPlWcUGLWQkheMqkD2FvSZL",
      "include_colab_link": true
    },
    "kernelspec": {
      "name": "python3",
      "display_name": "Python 3"
    },
    "language_info": {
      "name": "python"
    }
  },
  "cells": [
    {
      "cell_type": "markdown",
      "metadata": {
        "id": "view-in-github",
        "colab_type": "text"
      },
      "source": [
        "<a href=\"https://colab.research.google.com/github/leptoquark/MapStore/blob/master/frasal.ipynb\" target=\"_parent\"><img src=\"https://colab.research.google.com/assets/colab-badge.svg\" alt=\"Open In Colab\"/></a>"
      ]
    },
    {
      "cell_type": "markdown",
      "source": [
        "#FRASAL\n",
        "Il file è stato preparato per essere analizzato con le categorie."
      ],
      "metadata": {
        "id": "0aMBA1ifMbHa"
      }
    },
    {
      "cell_type": "code",
      "execution_count": 41,
      "metadata": {
        "id": "6ZnVYunkMaGw"
      },
      "outputs": [],
      "source": [
        "import os\n",
        "import tarfile\n",
        "import urllib.request\n",
        "\n",
        "DOWNLOAD_FILE = \"https://docs.google.com/spreadsheets/d/e/2PACX-1vSL7SdxKVAe864US4WNcKQiwFNHR8qf4SG5fWy0R4wpFNX5ECGgOlrqMZ1yvGtKPG9k2lHI5caxmt_B/pub?gid=273652227&single=true&output=csv\"\n",
        "DATA_DIR  = \"dataset_frasal\" \n",
        "DATA_FILE = \"frasal_data.csv\"\n",
        "DATA_PATH = os.path.join(DATA_DIR,DATA_FILE)\n",
        "\n",
        "def fetch_frasal_data(file_url=DOWNLOAD_FILE,data_path=DATA_PATH):\n",
        "    os.makedirs(DATA_DIR, exist_ok=True)\n",
        "    urllib.request.urlretrieve(file_url,data_path)\n",
        "\n",
        "fetch_frasal_data();"
      ]
    },
    {
      "cell_type": "code",
      "source": [
        "import pandas as pd\n",
        "\n",
        "def load_frasal_data(data_path=DATA_PATH):\n",
        "  return pd.read_csv(data_path)\n",
        "\n",
        "data = load_frasal_data()"
      ],
      "metadata": {
        "id": "HGqz_wQ5oVYv"
      },
      "execution_count": 42,
      "outputs": []
    },
    {
      "cell_type": "code",
      "source": [
        "data.head()"
      ],
      "metadata": {
        "colab": {
          "base_uri": "https://localhost:8080/",
          "height": 268
        },
        "id": "8t9Rep62pTiH",
        "outputId": "70d05f72-7d1c-4ea2-e86a-229fc2c9a6fe"
      },
      "execution_count": 43,
      "outputs": [
        {
          "output_type": "execute_result",
          "data": {
            "text/plain": [
              "   misura term. mand.  misura term. Rit.  misura term. mand..1  \\\n",
              "0                 7.0               12.0                  16.0   \n",
              "1                 7.0               12.0                  16.0   \n",
              "2                 7.0               12.0                  16.0   \n",
              "3                 7.0               12.0                  16.0   \n",
              "4                 7.0               12.0                  16.0   \n",
              "\n",
              "   misura term. Rit..1  Temp. Ambiente  Delta pressione differenziale  \\\n",
              "0                 26.0            26.0                            4.0   \n",
              "1                 26.0            26.0                            4.2   \n",
              "2                 26.0            26.0                            4.1   \n",
              "3                 26.0            26.0                            4.3   \n",
              "4                 26.0            26.0                            4.4   \n",
              "\n",
              "   Delta Pressione Filtri polveri grandi [Pa]  \\\n",
              "0                                         105   \n",
              "1                                         105   \n",
              "2                                         105   \n",
              "3                                         105   \n",
              "4                                         105   \n",
              "\n",
              "   Delta Pressione Filtri polveri sottili [Pa]  Misuratori amperometrici  \\\n",
              "0                                          115                       3.5   \n",
              "1                                          115                       3.5   \n",
              "2                                          115                       3.6   \n",
              "3                                          115                       3.5   \n",
              "4                                          115                       3.6   \n",
              "\n",
              "  Classe  \n",
              "0      N  \n",
              "1      N  \n",
              "2      N  \n",
              "3      N  \n",
              "4      N  "
            ],
            "text/html": [
              "\n",
              "  <div id=\"df-ece96185-3cd3-4703-b464-8a00e3794bca\">\n",
              "    <div class=\"colab-df-container\">\n",
              "      <div>\n",
              "<style scoped>\n",
              "    .dataframe tbody tr th:only-of-type {\n",
              "        vertical-align: middle;\n",
              "    }\n",
              "\n",
              "    .dataframe tbody tr th {\n",
              "        vertical-align: top;\n",
              "    }\n",
              "\n",
              "    .dataframe thead th {\n",
              "        text-align: right;\n",
              "    }\n",
              "</style>\n",
              "<table border=\"1\" class=\"dataframe\">\n",
              "  <thead>\n",
              "    <tr style=\"text-align: right;\">\n",
              "      <th></th>\n",
              "      <th>misura term. mand.</th>\n",
              "      <th>misura term. Rit.</th>\n",
              "      <th>misura term. mand..1</th>\n",
              "      <th>misura term. Rit..1</th>\n",
              "      <th>Temp. Ambiente</th>\n",
              "      <th>Delta pressione differenziale</th>\n",
              "      <th>Delta Pressione Filtri polveri grandi [Pa]</th>\n",
              "      <th>Delta Pressione Filtri polveri sottili [Pa]</th>\n",
              "      <th>Misuratori amperometrici</th>\n",
              "      <th>Classe</th>\n",
              "    </tr>\n",
              "  </thead>\n",
              "  <tbody>\n",
              "    <tr>\n",
              "      <th>0</th>\n",
              "      <td>7.0</td>\n",
              "      <td>12.0</td>\n",
              "      <td>16.0</td>\n",
              "      <td>26.0</td>\n",
              "      <td>26.0</td>\n",
              "      <td>4.0</td>\n",
              "      <td>105</td>\n",
              "      <td>115</td>\n",
              "      <td>3.5</td>\n",
              "      <td>N</td>\n",
              "    </tr>\n",
              "    <tr>\n",
              "      <th>1</th>\n",
              "      <td>7.0</td>\n",
              "      <td>12.0</td>\n",
              "      <td>16.0</td>\n",
              "      <td>26.0</td>\n",
              "      <td>26.0</td>\n",
              "      <td>4.2</td>\n",
              "      <td>105</td>\n",
              "      <td>115</td>\n",
              "      <td>3.5</td>\n",
              "      <td>N</td>\n",
              "    </tr>\n",
              "    <tr>\n",
              "      <th>2</th>\n",
              "      <td>7.0</td>\n",
              "      <td>12.0</td>\n",
              "      <td>16.0</td>\n",
              "      <td>26.0</td>\n",
              "      <td>26.0</td>\n",
              "      <td>4.1</td>\n",
              "      <td>105</td>\n",
              "      <td>115</td>\n",
              "      <td>3.6</td>\n",
              "      <td>N</td>\n",
              "    </tr>\n",
              "    <tr>\n",
              "      <th>3</th>\n",
              "      <td>7.0</td>\n",
              "      <td>12.0</td>\n",
              "      <td>16.0</td>\n",
              "      <td>26.0</td>\n",
              "      <td>26.0</td>\n",
              "      <td>4.3</td>\n",
              "      <td>105</td>\n",
              "      <td>115</td>\n",
              "      <td>3.5</td>\n",
              "      <td>N</td>\n",
              "    </tr>\n",
              "    <tr>\n",
              "      <th>4</th>\n",
              "      <td>7.0</td>\n",
              "      <td>12.0</td>\n",
              "      <td>16.0</td>\n",
              "      <td>26.0</td>\n",
              "      <td>26.0</td>\n",
              "      <td>4.4</td>\n",
              "      <td>105</td>\n",
              "      <td>115</td>\n",
              "      <td>3.6</td>\n",
              "      <td>N</td>\n",
              "    </tr>\n",
              "  </tbody>\n",
              "</table>\n",
              "</div>\n",
              "      <button class=\"colab-df-convert\" onclick=\"convertToInteractive('df-ece96185-3cd3-4703-b464-8a00e3794bca')\"\n",
              "              title=\"Convert this dataframe to an interactive table.\"\n",
              "              style=\"display:none;\">\n",
              "        \n",
              "  <svg xmlns=\"http://www.w3.org/2000/svg\" height=\"24px\"viewBox=\"0 0 24 24\"\n",
              "       width=\"24px\">\n",
              "    <path d=\"M0 0h24v24H0V0z\" fill=\"none\"/>\n",
              "    <path d=\"M18.56 5.44l.94 2.06.94-2.06 2.06-.94-2.06-.94-.94-2.06-.94 2.06-2.06.94zm-11 1L8.5 8.5l.94-2.06 2.06-.94-2.06-.94L8.5 2.5l-.94 2.06-2.06.94zm10 10l.94 2.06.94-2.06 2.06-.94-2.06-.94-.94-2.06-.94 2.06-2.06.94z\"/><path d=\"M17.41 7.96l-1.37-1.37c-.4-.4-.92-.59-1.43-.59-.52 0-1.04.2-1.43.59L10.3 9.45l-7.72 7.72c-.78.78-.78 2.05 0 2.83L4 21.41c.39.39.9.59 1.41.59.51 0 1.02-.2 1.41-.59l7.78-7.78 2.81-2.81c.8-.78.8-2.07 0-2.86zM5.41 20L4 18.59l7.72-7.72 1.47 1.35L5.41 20z\"/>\n",
              "  </svg>\n",
              "      </button>\n",
              "      \n",
              "  <style>\n",
              "    .colab-df-container {\n",
              "      display:flex;\n",
              "      flex-wrap:wrap;\n",
              "      gap: 12px;\n",
              "    }\n",
              "\n",
              "    .colab-df-convert {\n",
              "      background-color: #E8F0FE;\n",
              "      border: none;\n",
              "      border-radius: 50%;\n",
              "      cursor: pointer;\n",
              "      display: none;\n",
              "      fill: #1967D2;\n",
              "      height: 32px;\n",
              "      padding: 0 0 0 0;\n",
              "      width: 32px;\n",
              "    }\n",
              "\n",
              "    .colab-df-convert:hover {\n",
              "      background-color: #E2EBFA;\n",
              "      box-shadow: 0px 1px 2px rgba(60, 64, 67, 0.3), 0px 1px 3px 1px rgba(60, 64, 67, 0.15);\n",
              "      fill: #174EA6;\n",
              "    }\n",
              "\n",
              "    [theme=dark] .colab-df-convert {\n",
              "      background-color: #3B4455;\n",
              "      fill: #D2E3FC;\n",
              "    }\n",
              "\n",
              "    [theme=dark] .colab-df-convert:hover {\n",
              "      background-color: #434B5C;\n",
              "      box-shadow: 0px 1px 3px 1px rgba(0, 0, 0, 0.15);\n",
              "      filter: drop-shadow(0px 1px 2px rgba(0, 0, 0, 0.3));\n",
              "      fill: #FFFFFF;\n",
              "    }\n",
              "  </style>\n",
              "\n",
              "      <script>\n",
              "        const buttonEl =\n",
              "          document.querySelector('#df-ece96185-3cd3-4703-b464-8a00e3794bca button.colab-df-convert');\n",
              "        buttonEl.style.display =\n",
              "          google.colab.kernel.accessAllowed ? 'block' : 'none';\n",
              "\n",
              "        async function convertToInteractive(key) {\n",
              "          const element = document.querySelector('#df-ece96185-3cd3-4703-b464-8a00e3794bca');\n",
              "          const dataTable =\n",
              "            await google.colab.kernel.invokeFunction('convertToInteractive',\n",
              "                                                     [key], {});\n",
              "          if (!dataTable) return;\n",
              "\n",
              "          const docLinkHtml = 'Like what you see? Visit the ' +\n",
              "            '<a target=\"_blank\" href=https://colab.research.google.com/notebooks/data_table.ipynb>data table notebook</a>'\n",
              "            + ' to learn more about interactive tables.';\n",
              "          element.innerHTML = '';\n",
              "          dataTable['output_type'] = 'display_data';\n",
              "          await google.colab.output.renderOutput(dataTable, element);\n",
              "          const docLink = document.createElement('div');\n",
              "          docLink.innerHTML = docLinkHtml;\n",
              "          element.appendChild(docLink);\n",
              "        }\n",
              "      </script>\n",
              "    </div>\n",
              "  </div>\n",
              "  "
            ]
          },
          "metadata": {},
          "execution_count": 43
        }
      ]
    },
    {
      "cell_type": "code",
      "source": [
        "data.info()"
      ],
      "metadata": {
        "colab": {
          "base_uri": "https://localhost:8080/"
        },
        "id": "e9y-HidBpVk4",
        "outputId": "b4a20fc4-1b6f-48b7-d1d4-47648832890a"
      },
      "execution_count": 44,
      "outputs": [
        {
          "output_type": "stream",
          "name": "stdout",
          "text": [
            "<class 'pandas.core.frame.DataFrame'>\n",
            "RangeIndex: 153 entries, 0 to 152\n",
            "Data columns (total 10 columns):\n",
            " #   Column                                       Non-Null Count  Dtype  \n",
            "---  ------                                       --------------  -----  \n",
            " 0   misura term. mand.                           153 non-null    float64\n",
            " 1   misura term. Rit.                            153 non-null    float64\n",
            " 2   misura term. mand..1                         153 non-null    float64\n",
            " 3   misura term. Rit..1                          153 non-null    float64\n",
            " 4   Temp. Ambiente                               153 non-null    float64\n",
            " 5   Delta pressione differenziale                153 non-null    float64\n",
            " 6   Delta Pressione Filtri polveri grandi [Pa]   153 non-null    int64  \n",
            " 7   Delta Pressione Filtri polveri sottili [Pa]  153 non-null    int64  \n",
            " 8   Misuratori amperometrici                     153 non-null    float64\n",
            " 9   Classe                                       153 non-null    object \n",
            "dtypes: float64(7), int64(2), object(1)\n",
            "memory usage: 12.1+ KB\n"
          ]
        }
      ]
    },
    {
      "cell_type": "code",
      "source": [
        "data[\"Classe\"].value_counts()"
      ],
      "metadata": {
        "colab": {
          "base_uri": "https://localhost:8080/"
        },
        "id": "0oNCNVIcqDO3",
        "outputId": "2b104f57-b1f6-4bb5-d9dc-dfca792d3e0d"
      },
      "execution_count": 26,
      "outputs": [
        {
          "output_type": "execute_result",
          "data": {
            "text/plain": [
              "F    51\n",
              "P    28\n",
              "V    22\n",
              "C    20\n",
              "N    19\n",
              "A    13\n",
              "Name: Classe, dtype: int64"
            ]
          },
          "metadata": {},
          "execution_count": 26
        }
      ]
    },
    {
      "cell_type": "code",
      "source": [
        "import matplotlib.pyplot as plt\n",
        "data.hist(bins=5, figsize=(20,15))\n",
        "plt.show()"
      ],
      "metadata": {
        "colab": {
          "base_uri": "https://localhost:8080/",
          "height": 879
        },
        "id": "mN6ZQM6ptK_5",
        "outputId": "67fbe389-4e04-4028-80e6-28f77750ef6b"
      },
      "execution_count": 28,
      "outputs": [
        {
          "output_type": "display_data",
          "data": {
            "text/plain": [
              "<Figure size 1440x1080 with 9 Axes>"
            ],
            "image/png": "[encoded data removed]"
          },
          "metadata": {
            "needs_background": "light"
          }
        }
      ]
    },
    {
      "cell_type": "code",
      "source": [
        "from sklearn.model_selection import train_test_split\n",
        "\n",
        "train_set, test_set = train_test_split(data,test_size=0.2,random_state=42)"
      ],
      "metadata": {
        "id": "A0W5sZC5uNz2"
      },
      "execution_count": 46,
      "outputs": []
    },
    {
      "cell_type": "code",
      "source": [
        "corr_matrix = data.corr()\n",
        "corr_matrix[\"Temp. Ambiente\"].sort_values(ascending=False)"
      ],
      "metadata": {
        "colab": {
          "base_uri": "https://localhost:8080/"
        },
        "id": "N03opRMGu8Vn",
        "outputId": "f140e61c-c0ac-44db-89f4-048658703a38"
      },
      "execution_count": 33,
      "outputs": [
        {
          "output_type": "execute_result",
          "data": {
            "text/plain": [
              "Temp. Ambiente                                 1.000000\n",
              "misura term. Rit..1                            0.998686\n",
              "misura term. mand..1                           0.872261\n",
              "Delta Pressione Filtri polveri grandi [Pa]     0.585397\n",
              "Delta Pressione Filtri polveri sottili [Pa]    0.583349\n",
              "misura term. mand.                             0.367628\n",
              "misura term. Rit.                              0.339895\n",
              "Misuratori amperometrici                      -0.126814\n",
              "Delta pressione differenziale                 -0.248002\n",
              "Name: Temp. Ambiente, dtype: float64"
            ]
          },
          "metadata": {},
          "execution_count": 33
        }
      ]
    },
    {
      "cell_type": "code",
      "source": [
        "corr_matrix[\"Delta Pressione Filtri polveri grandi [Pa]\"].sort_values(ascending=False)"
      ],
      "metadata": {
        "colab": {
          "base_uri": "https://localhost:8080/"
        },
        "id": "91gofcjQv4OJ",
        "outputId": "e834840b-084d-48b3-e384-60bb9177c459"
      },
      "execution_count": 34,
      "outputs": [
        {
          "output_type": "execute_result",
          "data": {
            "text/plain": [
              "Delta Pressione Filtri polveri grandi [Pa]     1.000000\n",
              "Delta Pressione Filtri polveri sottili [Pa]    0.999724\n",
              "misura term. mand..1                           0.833817\n",
              "Temp. Ambiente                                 0.585397\n",
              "misura term. Rit..1                            0.577046\n",
              "Delta pressione differenziale                  0.307953\n",
              "Misuratori amperometrici                      -0.166819\n",
              "misura term. mand.                            -0.393737\n",
              "misura term. Rit.                             -0.419767\n",
              "Name: Delta Pressione Filtri polveri grandi [Pa], dtype: float64"
            ]
          },
          "metadata": {},
          "execution_count": 34
        }
      ]
    },
    {
      "cell_type": "code",
      "source": [
        "corr_matrix[\"misura term. Rit.\"].sort_values(ascending=False)"
      ],
      "metadata": {
        "colab": {
          "base_uri": "https://localhost:8080/"
        },
        "id": "puQkzAEBwHSO",
        "outputId": "f4520dcd-8565-4cab-8cef-0fa5da97c014"
      },
      "execution_count": 36,
      "outputs": [
        {
          "output_type": "execute_result",
          "data": {
            "text/plain": [
              "misura term. Rit.                              1.000000\n",
              "misura term. mand.                             0.993344\n",
              "misura term. Rit..1                            0.340635\n",
              "Temp. Ambiente                                 0.339895\n",
              "misura term. mand..1                           0.093606\n",
              "Misuratori amperometrici                      -0.295690\n",
              "Delta Pressione Filtri polveri grandi [Pa]    -0.419767\n",
              "Delta Pressione Filtri polveri sottili [Pa]   -0.420253\n",
              "Delta pressione differenziale                 -0.719916\n",
              "Name: misura term. Rit., dtype: float64"
            ]
          },
          "metadata": {},
          "execution_count": 36
        }
      ]
    },
    {
      "cell_type": "code",
      "source": [
        "from sklearn import tree\n",
        "\n",
        "training_data  = train_set.drop(\"Classe\",axis=1)\n",
        "training_label = train_set[\"Classe\"].copy()\n",
        "\n",
        "clf = tree.DecisionTreeClassifier()\n",
        "clf = clf.fit(training_data, training_label)\n",
        "\n",
        "text_representation = tree.export_text(clf)\n",
        "print(text_representation)"
      ],
      "metadata": {
        "colab": {
          "base_uri": "https://localhost:8080/"
        },
        "id": "K3l0rHPFxVaQ",
        "outputId": "59686c06-bcda-4de4-bf54-fddff804c971"
      },
      "execution_count": 59,
      "outputs": [
        {
          "output_type": "stream",
          "name": "stdout",
          "text": [
            "|--- feature_6 <= 180.00\n",
            "|   |--- feature_5 <= 3.90\n",
            "|   |   |--- class: P\n",
            "|   |--- feature_5 >  3.90\n",
            "|   |   |--- feature_8 <= 3.95\n",
            "|   |   |   |--- feature_0 <= 7.25\n",
            "|   |   |   |   |--- feature_2 <= 16.25\n",
            "|   |   |   |   |   |--- feature_0 <= 6.50\n",
            "|   |   |   |   |   |   |--- class: A\n",
            "|   |   |   |   |   |--- feature_0 >  6.50\n",
            "|   |   |   |   |   |   |--- class: N\n",
            "|   |   |   |   |--- feature_2 >  16.25\n",
            "|   |   |   |   |   |--- class: A\n",
            "|   |   |   |--- feature_0 >  7.25\n",
            "|   |   |   |   |--- feature_2 <= 16.25\n",
            "|   |   |   |   |   |--- class: N\n",
            "|   |   |   |   |--- feature_2 >  16.25\n",
            "|   |   |   |   |   |--- class: C\n",
            "|   |   |--- feature_8 >  3.95\n",
            "|   |   |   |--- class: V\n",
            "|--- feature_6 >  180.00\n",
            "|   |--- class: F\n",
            "\n"
          ]
        }
      ]
    }
  ]
}