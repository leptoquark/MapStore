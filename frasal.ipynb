{
  "nbformat": 4,
  "nbformat_minor": 0,
  "metadata": {
    "colab": {
      "name": "frasal.ipynb",
      "provenance": [],
      "collapsed_sections": [],
      "authorship_tag": "ABX9TyO7PyYJ8OC+ObwH86TPQ+xF",
      "include_colab_link": true
    },
    "kernelspec": {
      "name": "python3",
      "display_name": "Python 3"
    },
    "language_info": {
      "name": "python"
    }
  },
  "cells": [
    {
      "cell_type": "markdown",
      "metadata": {
        "id": "view-in-github",
        "colab_type": "text"
      },
      "source": [
        "<a href=\"https://colab.research.google.com/github/leptoquark/MapStore/blob/master/frasal.ipynb\" target=\"_parent\"><img src=\"https://colab.research.google.com/assets/colab-badge.svg\" alt=\"Open In Colab\"/></a>"
      ]
    },
    {
      "cell_type": "markdown",
      "source": [
        "#FRASAL\n",
        "Il file è stato preparato per essere analizzato con le categorie."
      ],
      "metadata": {
        "id": "0aMBA1ifMbHa"
      }
    },
    {
      "cell_type": "code",
      "source": [
        ""
      ],
      "metadata": {
        "id": "j4Yfg2Yl7esP"
      },
      "execution_count": null,
      "outputs": []
    },
    {
      "cell_type": "code",
      "execution_count": 35,
      "metadata": {
        "id": "6ZnVYunkMaGw"
      },
      "outputs": [],
      "source": [
        "import os\n",
        "import tarfile\n",
        "import urllib.request\n",
        "\n",
        "DOWNLOAD_FILE = \"https://docs.google.com/spreadsheets/d/e/2PACX-1vSL7SdxKVAe864US4WNcKQiwFNHR8qf4SG5fWy0R4wpFNX5ECGgOlrqMZ1yvGtKPG9k2lHI5caxmt_B/pub?gid=273652227&single=true&output=csv\"\n",
        "DATA_DIR  = \"dataset_frasal\" \n",
        "DATA_FILE = \"frasal_data.csv\"\n",
        "DATA_PATH = os.path.join(DATA_DIR,DATA_FILE)\n",
        "\n",
        "def fetch_frasal_data(file_url=DOWNLOAD_FILE,data_path=DATA_PATH):\n",
        "    os.makedirs(DATA_DIR, exist_ok=True)\n",
        "    urllib.request.urlretrieve(file_url,data_path)\n",
        "\n",
        "fetch_frasal_data();"
      ]
    },
    {
      "cell_type": "code",
      "source": [
        "import pandas as pd\n",
        "\n",
        "def load_frasal_data(data_path=DATA_PATH):\n",
        "  return pd.read_csv(data_path)\n",
        "\n",
        "data = load_frasal_data()"
      ],
      "metadata": {
        "id": "HGqz_wQ5oVYv"
      },
      "execution_count": 37,
      "outputs": []
    },
    {
      "cell_type": "code",
      "source": [
        "data.head()"
      ],
      "metadata": {
        "colab": {
          "base_uri": "https://localhost:8080/",
          "height": 268
        },
        "id": "8t9Rep62pTiH",
        "outputId": "9a2530fc-f68a-44a4-f1c1-a5fac8451630"
      },
      "execution_count": 38,
      "outputs": [
        {
          "output_type": "execute_result",
          "data": {
            "text/plain": [
              "   misura term. mand.  misura term. Rit.  misura term. mand..1  \\\n",
              "0                 7.0               12.0                  16.0   \n",
              "1                 7.0               12.0                  16.0   \n",
              "2                 7.0               12.0                  16.0   \n",
              "3                 7.0               12.0                  16.0   \n",
              "4                 7.0               12.0                  16.0   \n",
              "\n",
              "   misura term. Rit..1  Temp. Ambiente  Delta pressione differenziale  \\\n",
              "0                 26.0            26.0                            4.0   \n",
              "1                 26.0            26.0                            4.2   \n",
              "2                 26.0            26.0                            4.1   \n",
              "3                 26.0            26.0                            4.3   \n",
              "4                 26.0            26.0                            4.4   \n",
              "\n",
              "   Delta Pressione Filtri polveri grandi [Pa]  \\\n",
              "0                                         105   \n",
              "1                                         105   \n",
              "2                                         105   \n",
              "3                                         105   \n",
              "4                                         105   \n",
              "\n",
              "   Delta Pressione Filtri polveri sottili [Pa]  Misuratori amperometrici  \\\n",
              "0                                          115                       3.5   \n",
              "1                                          115                       3.5   \n",
              "2                                          115                       3.6   \n",
              "3                                          115                       3.5   \n",
              "4                                          115                       3.6   \n",
              "\n",
              "  Classe Classe N/P  \n",
              "0      N          N  \n",
              "1      N          N  \n",
              "2      N          N  \n",
              "3      N          N  \n",
              "4      N          N  "
            ],
            "text/html": [
              "\n",
              "  <div id=\"df-54ad0fc0-744c-4715-99d9-7d0e77ee79d6\">\n",
              "    <div class=\"colab-df-container\">\n",
              "      <div>\n",
              "<style scoped>\n",
              "    .dataframe tbody tr th:only-of-type {\n",
              "        vertical-align: middle;\n",
              "    }\n",
              "\n",
              "    .dataframe tbody tr th {\n",
              "        vertical-align: top;\n",
              "    }\n",
              "\n",
              "    .dataframe thead th {\n",
              "        text-align: right;\n",
              "    }\n",
              "</style>\n",
              "<table border=\"1\" class=\"dataframe\">\n",
              "  <thead>\n",
              "    <tr style=\"text-align: right;\">\n",
              "      <th></th>\n",
              "      <th>misura term. mand.</th>\n",
              "      <th>misura term. Rit.</th>\n",
              "      <th>misura term. mand..1</th>\n",
              "      <th>misura term. Rit..1</th>\n",
              "      <th>Temp. Ambiente</th>\n",
              "      <th>Delta pressione differenziale</th>\n",
              "      <th>Delta Pressione Filtri polveri grandi [Pa]</th>\n",
              "      <th>Delta Pressione Filtri polveri sottili [Pa]</th>\n",
              "      <th>Misuratori amperometrici</th>\n",
              "      <th>Classe</th>\n",
              "      <th>Classe N/P</th>\n",
              "    </tr>\n",
              "  </thead>\n",
              "  <tbody>\n",
              "    <tr>\n",
              "      <th>0</th>\n",
              "      <td>7.0</td>\n",
              "      <td>12.0</td>\n",
              "      <td>16.0</td>\n",
              "      <td>26.0</td>\n",
              "      <td>26.0</td>\n",
              "      <td>4.0</td>\n",
              "      <td>105</td>\n",
              "      <td>115</td>\n",
              "      <td>3.5</td>\n",
              "      <td>N</td>\n",
              "      <td>N</td>\n",
              "    </tr>\n",
              "    <tr>\n",
              "      <th>1</th>\n",
              "      <td>7.0</td>\n",
              "      <td>12.0</td>\n",
              "      <td>16.0</td>\n",
              "      <td>26.0</td>\n",
              "      <td>26.0</td>\n",
              "      <td>4.2</td>\n",
              "      <td>105</td>\n",
              "      <td>115</td>\n",
              "      <td>3.5</td>\n",
              "      <td>N</td>\n",
              "      <td>N</td>\n",
              "    </tr>\n",
              "    <tr>\n",
              "      <th>2</th>\n",
              "      <td>7.0</td>\n",
              "      <td>12.0</td>\n",
              "      <td>16.0</td>\n",
              "      <td>26.0</td>\n",
              "      <td>26.0</td>\n",
              "      <td>4.1</td>\n",
              "      <td>105</td>\n",
              "      <td>115</td>\n",
              "      <td>3.6</td>\n",
              "      <td>N</td>\n",
              "      <td>N</td>\n",
              "    </tr>\n",
              "    <tr>\n",
              "      <th>3</th>\n",
              "      <td>7.0</td>\n",
              "      <td>12.0</td>\n",
              "      <td>16.0</td>\n",
              "      <td>26.0</td>\n",
              "      <td>26.0</td>\n",
              "      <td>4.3</td>\n",
              "      <td>105</td>\n",
              "      <td>115</td>\n",
              "      <td>3.5</td>\n",
              "      <td>N</td>\n",
              "      <td>N</td>\n",
              "    </tr>\n",
              "    <tr>\n",
              "      <th>4</th>\n",
              "      <td>7.0</td>\n",
              "      <td>12.0</td>\n",
              "      <td>16.0</td>\n",
              "      <td>26.0</td>\n",
              "      <td>26.0</td>\n",
              "      <td>4.4</td>\n",
              "      <td>105</td>\n",
              "      <td>115</td>\n",
              "      <td>3.6</td>\n",
              "      <td>N</td>\n",
              "      <td>N</td>\n",
              "    </tr>\n",
              "  </tbody>\n",
              "</table>\n",
              "</div>\n",
              "      <button class=\"colab-df-convert\" onclick=\"convertToInteractive('df-54ad0fc0-744c-4715-99d9-7d0e77ee79d6')\"\n",
              "              title=\"Convert this dataframe to an interactive table.\"\n",
              "              style=\"display:none;\">\n",
              "        \n",
              "  <svg xmlns=\"http://www.w3.org/2000/svg\" height=\"24px\"viewBox=\"0 0 24 24\"\n",
              "       width=\"24px\">\n",
              "    <path d=\"M0 0h24v24H0V0z\" fill=\"none\"/>\n",
              "    <path d=\"M18.56 5.44l.94 2.06.94-2.06 2.06-.94-2.06-.94-.94-2.06-.94 2.06-2.06.94zm-11 1L8.5 8.5l.94-2.06 2.06-.94-2.06-.94L8.5 2.5l-.94 2.06-2.06.94zm10 10l.94 2.06.94-2.06 2.06-.94-2.06-.94-.94-2.06-.94 2.06-2.06.94z\"/><path d=\"M17.41 7.96l-1.37-1.37c-.4-.4-.92-.59-1.43-.59-.52 0-1.04.2-1.43.59L10.3 9.45l-7.72 7.72c-.78.78-.78 2.05 0 2.83L4 21.41c.39.39.9.59 1.41.59.51 0 1.02-.2 1.41-.59l7.78-7.78 2.81-2.81c.8-.78.8-2.07 0-2.86zM5.41 20L4 18.59l7.72-7.72 1.47 1.35L5.41 20z\"/>\n",
              "  </svg>\n",
              "      </button>\n",
              "      \n",
              "  <style>\n",
              "    .colab-df-container {\n",
              "      display:flex;\n",
              "      flex-wrap:wrap;\n",
              "      gap: 12px;\n",
              "    }\n",
              "\n",
              "    .colab-df-convert {\n",
              "      background-color: #E8F0FE;\n",
              "      border: none;\n",
              "      border-radius: 50%;\n",
              "      cursor: pointer;\n",
              "      display: none;\n",
              "      fill: #1967D2;\n",
              "      height: 32px;\n",
              "      padding: 0 0 0 0;\n",
              "      width: 32px;\n",
              "    }\n",
              "\n",
              "    .colab-df-convert:hover {\n",
              "      background-color: #E2EBFA;\n",
              "      box-shadow: 0px 1px 2px rgba(60, 64, 67, 0.3), 0px 1px 3px 1px rgba(60, 64, 67, 0.15);\n",
              "      fill: #174EA6;\n",
              "    }\n",
              "\n",
              "    [theme=dark] .colab-df-convert {\n",
              "      background-color: #3B4455;\n",
              "      fill: #D2E3FC;\n",
              "    }\n",
              "\n",
              "    [theme=dark] .colab-df-convert:hover {\n",
              "      background-color: #434B5C;\n",
              "      box-shadow: 0px 1px 3px 1px rgba(0, 0, 0, 0.15);\n",
              "      filter: drop-shadow(0px 1px 2px rgba(0, 0, 0, 0.3));\n",
              "      fill: #FFFFFF;\n",
              "    }\n",
              "  </style>\n",
              "\n",
              "      <script>\n",
              "        const buttonEl =\n",
              "          document.querySelector('#df-54ad0fc0-744c-4715-99d9-7d0e77ee79d6 button.colab-df-convert');\n",
              "        buttonEl.style.display =\n",
              "          google.colab.kernel.accessAllowed ? 'block' : 'none';\n",
              "\n",
              "        async function convertToInteractive(key) {\n",
              "          const element = document.querySelector('#df-54ad0fc0-744c-4715-99d9-7d0e77ee79d6');\n",
              "          const dataTable =\n",
              "            await google.colab.kernel.invokeFunction('convertToInteractive',\n",
              "                                                     [key], {});\n",
              "          if (!dataTable) return;\n",
              "\n",
              "          const docLinkHtml = 'Like what you see? Visit the ' +\n",
              "            '<a target=\"_blank\" href=https://colab.research.google.com/notebooks/data_table.ipynb>data table notebook</a>'\n",
              "            + ' to learn more about interactive tables.';\n",
              "          element.innerHTML = '';\n",
              "          dataTable['output_type'] = 'display_data';\n",
              "          await google.colab.output.renderOutput(dataTable, element);\n",
              "          const docLink = document.createElement('div');\n",
              "          docLink.innerHTML = docLinkHtml;\n",
              "          element.appendChild(docLink);\n",
              "        }\n",
              "      </script>\n",
              "    </div>\n",
              "  </div>\n",
              "  "
            ]
          },
          "metadata": {},
          "execution_count": 38
        }
      ]
    },
    {
      "cell_type": "code",
      "source": [
        "data.info()"
      ],
      "metadata": {
        "colab": {
          "base_uri": "https://localhost:8080/"
        },
        "id": "e9y-HidBpVk4",
        "outputId": "3079df84-8992-44b6-d74d-814f3193823f"
      },
      "execution_count": 39,
      "outputs": [
        {
          "output_type": "stream",
          "name": "stdout",
          "text": [
            "<class 'pandas.core.frame.DataFrame'>\n",
            "RangeIndex: 153 entries, 0 to 152\n",
            "Data columns (total 11 columns):\n",
            " #   Column                                       Non-Null Count  Dtype  \n",
            "---  ------                                       --------------  -----  \n",
            " 0   misura term. mand.                           153 non-null    float64\n",
            " 1   misura term. Rit.                            153 non-null    float64\n",
            " 2   misura term. mand..1                         153 non-null    float64\n",
            " 3   misura term. Rit..1                          153 non-null    float64\n",
            " 4   Temp. Ambiente                               153 non-null    float64\n",
            " 5   Delta pressione differenziale                153 non-null    float64\n",
            " 6   Delta Pressione Filtri polveri grandi [Pa]   153 non-null    int64  \n",
            " 7   Delta Pressione Filtri polveri sottili [Pa]  153 non-null    int64  \n",
            " 8   Misuratori amperometrici                     153 non-null    float64\n",
            " 9   Classe                                       153 non-null    object \n",
            " 10  Classe N/P                                   153 non-null    object \n",
            "dtypes: float64(7), int64(2), object(2)\n",
            "memory usage: 13.3+ KB\n"
          ]
        }
      ]
    },
    {
      "cell_type": "code",
      "source": [
        "data[\"Classe\"].value_counts()"
      ],
      "metadata": {
        "colab": {
          "base_uri": "https://localhost:8080/"
        },
        "id": "0oNCNVIcqDO3",
        "outputId": "b5ae25e1-f710-4d9e-c228-9210045722e7"
      },
      "execution_count": 40,
      "outputs": [
        {
          "output_type": "execute_result",
          "data": {
            "text/plain": [
              "F    51\n",
              "P    28\n",
              "V    22\n",
              "C    20\n",
              "N    19\n",
              "A    13\n",
              "Name: Classe, dtype: int64"
            ]
          },
          "metadata": {},
          "execution_count": 40
        }
      ]
    },
    {
      "cell_type": "code",
      "source": [
        "data[\"Classe N/P\"].value_counts()"
      ],
      "metadata": {
        "id": "df_cxkBlZMJZ",
        "outputId": "7cc633a0-6262-4793-af15-080b52211faa",
        "colab": {
          "base_uri": "https://localhost:8080/"
        }
      },
      "execution_count": 41,
      "outputs": [
        {
          "output_type": "execute_result",
          "data": {
            "text/plain": [
              "P    134\n",
              "N     19\n",
              "Name: Classe N/P, dtype: int64"
            ]
          },
          "metadata": {},
          "execution_count": 41
        }
      ]
    },
    {
      "cell_type": "code",
      "source": [
        "import matplotlib.pyplot as plt\n",
        "data.hist(bins=10, figsize=(20,15))\n",
        "plt.show()"
      ],
      "metadata": {
        "colab": {
          "base_uri": "https://localhost:8080/",
          "height": 879
        },
        "id": "mN6ZQM6ptK_5",
        "outputId": "97c0e8cd-50d8-4521-e551-cc82a06c491c"
      },
      "execution_count": 42,
      "outputs": [
        {
          "output_type": "display_data",
          "data": {
            "text/plain": [
              "<Figure size 1440x1080 with 9 Axes>"
            ],
            "image/png": "[encoded data removed]"
          },
          "metadata": {
            "needs_background": "light"
          }
        }
      ]
    },
    {
      "cell_type": "code",
      "source": [
        "from sklearn.model_selection import train_test_split\n",
        "\n",
        "train_set, test_set = train_test_split(data,test_size=0.2,random_state=42)"
      ],
      "metadata": {
        "id": "A0W5sZC5uNz2"
      },
      "execution_count": 43,
      "outputs": []
    },
    {
      "cell_type": "code",
      "source": [
        "corr_matrix = data.corr()\n",
        "corr_matrix[\"Temp. Ambiente\"].sort_values(ascending=False)"
      ],
      "metadata": {
        "colab": {
          "base_uri": "https://localhost:8080/"
        },
        "id": "N03opRMGu8Vn",
        "outputId": "4026e9c8-e641-4915-e2b4-3d2e6ba5e972"
      },
      "execution_count": 44,
      "outputs": [
        {
          "output_type": "execute_result",
          "data": {
            "text/plain": [
              "Temp. Ambiente                                 1.000000\n",
              "misura term. Rit..1                            0.998686\n",
              "misura term. mand..1                           0.872261\n",
              "Delta Pressione Filtri polveri grandi [Pa]     0.585397\n",
              "Delta Pressione Filtri polveri sottili [Pa]    0.583349\n",
              "misura term. mand.                             0.367628\n",
              "misura term. Rit.                              0.339895\n",
              "Misuratori amperometrici                      -0.126814\n",
              "Delta pressione differenziale                 -0.248002\n",
              "Name: Temp. Ambiente, dtype: float64"
            ]
          },
          "metadata": {},
          "execution_count": 44
        }
      ]
    },
    {
      "cell_type": "code",
      "source": [
        "corr_matrix[\"Delta Pressione Filtri polveri grandi [Pa]\"].sort_values(ascending=False)"
      ],
      "metadata": {
        "colab": {
          "base_uri": "https://localhost:8080/"
        },
        "id": "91gofcjQv4OJ",
        "outputId": "9204098c-3324-4fb7-fb92-909e82269299"
      },
      "execution_count": 9,
      "outputs": [
        {
          "output_type": "execute_result",
          "data": {
            "text/plain": [
              "Delta Pressione Filtri polveri grandi [Pa]     1.000000\n",
              "Delta Pressione Filtri polveri sottili [Pa]    0.999724\n",
              "misura term. mand..1                           0.833817\n",
              "Temp. Ambiente                                 0.585397\n",
              "misura term. Rit..1                            0.577046\n",
              "Delta pressione differenziale                  0.307953\n",
              "Misuratori amperometrici                      -0.166819\n",
              "misura term. mand.                            -0.393737\n",
              "misura term. Rit.                             -0.419767\n",
              "Name: Delta Pressione Filtri polveri grandi [Pa], dtype: float64"
            ]
          },
          "metadata": {},
          "execution_count": 9
        }
      ]
    },
    {
      "cell_type": "code",
      "source": [
        "corr_matrix[\"misura term. Rit.\"].sort_values(ascending=False)"
      ],
      "metadata": {
        "colab": {
          "base_uri": "https://localhost:8080/"
        },
        "id": "puQkzAEBwHSO",
        "outputId": "c9c12028-b146-408e-9e59-5a3d6f3af42c"
      },
      "execution_count": 10,
      "outputs": [
        {
          "output_type": "execute_result",
          "data": {
            "text/plain": [
              "misura term. Rit.                              1.000000\n",
              "misura term. mand.                             0.993344\n",
              "misura term. Rit..1                            0.340635\n",
              "Temp. Ambiente                                 0.339895\n",
              "misura term. mand..1                           0.093606\n",
              "Misuratori amperometrici                      -0.295690\n",
              "Delta Pressione Filtri polveri grandi [Pa]    -0.419767\n",
              "Delta Pressione Filtri polveri sottili [Pa]   -0.420253\n",
              "Delta pressione differenziale                 -0.719916\n",
              "Name: misura term. Rit., dtype: float64"
            ]
          },
          "metadata": {},
          "execution_count": 10
        }
      ]
    },
    {
      "cell_type": "code",
      "source": [
        "from sklearn import tree\n",
        "\n",
        "training_data = train_set.drop(\"Classe\",axis=1)\n",
        "training_data = training_data.drop(\"Classe N/P\",axis=1)\n",
        "training_data = training_data.values\n",
        "\n",
        "training_label    = train_set[\"Classe\"].copy()\n",
        "training_label_01 = train_set[\"Classe N/P\"].copy()\n",
        "\n",
        "tree_clf = tree.DecisionTreeClassifier()\n",
        "tree_clf = tree_clf.fit(training_data, training_label_01)\n",
        "\n",
        "text_representation = tree.export_text(tree_clf)\n",
        "print(text_representation)"
      ],
      "metadata": {
        "colab": {
          "base_uri": "https://localhost:8080/"
        },
        "id": "K3l0rHPFxVaQ",
        "outputId": "a4de5eb5-a76b-4aa2-8bb2-66c19a669f38"
      },
      "execution_count": 46,
      "outputs": [
        {
          "output_type": "stream",
          "name": "stdout",
          "text": [
            "|--- feature_4 <= 26.25\n",
            "|   |--- feature_0 <= 6.50\n",
            "|   |   |--- class: P\n",
            "|   |--- feature_0 >  6.50\n",
            "|   |   |--- class: N\n",
            "|--- feature_4 >  26.25\n",
            "|   |--- class: P\n",
            "\n"
          ]
        }
      ]
    },
    {
      "cell_type": "code",
      "source": [
        "from sklearn.neural_network import MLPClassifier\n",
        "\n",
        "NN_clf = MLPClassifier(solver='lbfgs', alpha=1e-5, hidden_layer_sizes=(5, 2), random_state=1)\n",
        "NN_clf = NN_clf.fit(training_data, training_label)\n",
        "\n",
        "from sklearn import svm\n",
        "svm_clf = svm.SVC()"
      ],
      "metadata": {
        "id": "PFRtrbIdAf5m"
      },
      "execution_count": 49,
      "outputs": []
    },
    {
      "cell_type": "code",
      "source": [
        "from sklearn.model_selection import cross_val_score\n",
        "\n",
        "test_data  = test_set.drop(\"Classe\",axis=1)\n",
        "test_label = test_set[\"Classe\"].copy()\n",
        "\n",
        "print (cross_val_score(tree_clf,training_data,training_label,cv=3, scoring=\"accuracy\"))\n",
        "print(cross_val_score(tree_clf,test_data,test_label,cv=3, scoring=\"accuracy\"))\n",
        "\n",
        "print(cross_val_score(NN_clf,training_data,training_label,cv=3, scoring=\"accuracy\"))\n",
        "print(cross_val_score(NN_clf,test_data,test_label,cv=3, scoring=\"accuracy\"))\n",
        "\n",
        "print(cross_val_score(svm_clf,training_data,training_label,cv=3, scoring=\"accuracy\"))\n",
        "print(cross_val_score(svm_clf,test_data,test_label,cv=3, scoring=\"accuracy\"))\n"
      ],
      "metadata": {
        "colab": {
          "base_uri": "https://localhost:8080/"
        },
        "id": "fajk30es7g3f",
        "outputId": "7da2c819-ded3-4d01-dccd-7db4f4fe2f73"
      },
      "execution_count": 48,
      "outputs": [
        {
          "output_type": "stream",
          "name": "stdout",
          "text": [
            "[0.97560976 0.95121951 1.        ]\n",
            "[nan nan nan]\n",
            "[0.34146341 0.34146341 0.325     ]\n",
            "[nan nan nan]\n",
            "[0.51219512 0.48780488 0.5       ]\n",
            "[nan nan nan]\n"
          ]
        },
        {
          "output_type": "stream",
          "name": "stderr",
          "text": [
            "/usr/local/lib/python3.7/dist-packages/sklearn/model_selection/_validation.py:372: FitFailedWarning: \n",
            "3 fits failed out of a total of 3.\n",
            "The score on these train-test partitions for these parameters will be set to nan.\n",
            "If these failures are not expected, you can try to debug them by setting error_score='raise'.\n",
            "\n",
            "Below are more details about the failures:\n",
            "--------------------------------------------------------------------------------\n",
            "3 fits failed with the following error:\n",
            "Traceback (most recent call last):\n",
            "  File \"/usr/local/lib/python3.7/dist-packages/sklearn/model_selection/_validation.py\", line 680, in _fit_and_score\n",
            "    estimator.fit(X_train, y_train, **fit_params)\n",
            "  File \"/usr/local/lib/python3.7/dist-packages/sklearn/tree/_classes.py\", line 942, in fit\n",
            "    X_idx_sorted=X_idx_sorted,\n",
            "  File \"/usr/local/lib/python3.7/dist-packages/sklearn/tree/_classes.py\", line 166, in fit\n",
            "    X, y, validate_separately=(check_X_params, check_y_params)\n",
            "  File \"/usr/local/lib/python3.7/dist-packages/sklearn/base.py\", line 578, in _validate_data\n",
            "    X = check_array(X, **check_X_params)\n",
            "  File \"/usr/local/lib/python3.7/dist-packages/sklearn/utils/validation.py\", line 746, in check_array\n",
            "    array = np.asarray(array, order=order, dtype=dtype)\n",
            "  File \"/usr/local/lib/python3.7/dist-packages/pandas/core/generic.py\", line 1993, in __array__\n",
            "    return np.asarray(self._values, dtype=dtype)\n",
            "ValueError: could not convert string to float: 'P'\n",
            "\n",
            "  warnings.warn(some_fits_failed_message, FitFailedWarning)\n",
            "/usr/local/lib/python3.7/dist-packages/sklearn/model_selection/_validation.py:372: FitFailedWarning: \n",
            "3 fits failed out of a total of 3.\n",
            "The score on these train-test partitions for these parameters will be set to nan.\n",
            "If these failures are not expected, you can try to debug them by setting error_score='raise'.\n",
            "\n",
            "Below are more details about the failures:\n",
            "--------------------------------------------------------------------------------\n",
            "3 fits failed with the following error:\n",
            "Traceback (most recent call last):\n",
            "  File \"/usr/local/lib/python3.7/dist-packages/sklearn/model_selection/_validation.py\", line 680, in _fit_and_score\n",
            "    estimator.fit(X_train, y_train, **fit_params)\n",
            "  File \"/usr/local/lib/python3.7/dist-packages/sklearn/neural_network/_multilayer_perceptron.py\", line 752, in fit\n",
            "    return self._fit(X, y, incremental=False)\n",
            "  File \"/usr/local/lib/python3.7/dist-packages/sklearn/neural_network/_multilayer_perceptron.py\", line 393, in _fit\n",
            "    X, y = self._validate_input(X, y, incremental, reset=first_pass)\n",
            "  File \"/usr/local/lib/python3.7/dist-packages/sklearn/neural_network/_multilayer_perceptron.py\", line 1106, in _validate_input\n",
            "    reset=reset,\n",
            "  File \"/usr/local/lib/python3.7/dist-packages/sklearn/base.py\", line 581, in _validate_data\n",
            "    X, y = check_X_y(X, y, **check_params)\n",
            "  File \"/usr/local/lib/python3.7/dist-packages/sklearn/utils/validation.py\", line 976, in check_X_y\n",
            "    estimator=estimator,\n",
            "  File \"/usr/local/lib/python3.7/dist-packages/sklearn/utils/validation.py\", line 746, in check_array\n",
            "    array = np.asarray(array, order=order, dtype=dtype)\n",
            "  File \"/usr/local/lib/python3.7/dist-packages/pandas/core/generic.py\", line 1993, in __array__\n",
            "    return np.asarray(self._values, dtype=dtype)\n",
            "ValueError: could not convert string to float: 'P'\n",
            "\n",
            "  warnings.warn(some_fits_failed_message, FitFailedWarning)\n",
            "/usr/local/lib/python3.7/dist-packages/sklearn/model_selection/_validation.py:372: FitFailedWarning: \n",
            "3 fits failed out of a total of 3.\n",
            "The score on these train-test partitions for these parameters will be set to nan.\n",
            "If these failures are not expected, you can try to debug them by setting error_score='raise'.\n",
            "\n",
            "Below are more details about the failures:\n",
            "--------------------------------------------------------------------------------\n",
            "3 fits failed with the following error:\n",
            "Traceback (most recent call last):\n",
            "  File \"/usr/local/lib/python3.7/dist-packages/sklearn/model_selection/_validation.py\", line 680, in _fit_and_score\n",
            "    estimator.fit(X_train, y_train, **fit_params)\n",
            "  File \"/usr/local/lib/python3.7/dist-packages/sklearn/svm/_base.py\", line 196, in fit\n",
            "    accept_large_sparse=False,\n",
            "  File \"/usr/local/lib/python3.7/dist-packages/sklearn/base.py\", line 581, in _validate_data\n",
            "    X, y = check_X_y(X, y, **check_params)\n",
            "  File \"/usr/local/lib/python3.7/dist-packages/sklearn/utils/validation.py\", line 976, in check_X_y\n",
            "    estimator=estimator,\n",
            "  File \"/usr/local/lib/python3.7/dist-packages/sklearn/utils/validation.py\", line 746, in check_array\n",
            "    array = np.asarray(array, order=order, dtype=dtype)\n",
            "  File \"/usr/local/lib/python3.7/dist-packages/pandas/core/generic.py\", line 1993, in __array__\n",
            "    return np.asarray(self._values, dtype=dtype)\n",
            "ValueError: could not convert string to float: 'P'\n",
            "\n",
            "  warnings.warn(some_fits_failed_message, FitFailedWarning)\n"
          ]
        }
      ]
    },
    {
      "cell_type": "code",
      "source": [
        "from joblib import dump, load\n",
        "dump(tree_clf, 'frasal_model.joblib')"
      ],
      "metadata": {
        "id": "s1FV4wvkjKA6",
        "outputId": "3d021617-1e00-4055-f975-cc49c81d0328",
        "colab": {
          "base_uri": "https://localhost:8080/"
        }
      },
      "execution_count": 31,
      "outputs": [
        {
          "output_type": "execute_result",
          "data": {
            "text/plain": [
              "['frasal_model.joblib']"
            ]
          },
          "metadata": {},
          "execution_count": 31
        }
      ]
    },
    {
      "cell_type": "code",
      "source": [
        "\n",
        "predict_clf = load('frasal_model.joblib')\n",
        "st = [7.0, 12.0, 16.0,\t26.0,\t26.0,\t4.0,\t105,\t115,\t3.5]\n",
        "print(predict_clf.predict([st]))\n",
        "\n",
        "from sklearn.ensemble import RandomForestClassifier\n",
        "model = RandomForestClassifier(n_estimators=10)\n",
        "\n",
        "# Train\n",
        "model.fit(training_data,training_label)"
      ],
      "metadata": {
        "id": "V3HUiaBOjF_c",
        "outputId": "dbc0b2cb-44e4-48e2-d8d7-0d39296feb63",
        "colab": {
          "base_uri": "https://localhost:8080/"
        }
      },
      "execution_count": 34,
      "outputs": [
        {
          "output_type": "stream",
          "name": "stdout",
          "text": [
            "['N']\n"
          ]
        },
        {
          "output_type": "execute_result",
          "data": {
            "text/plain": [
              "RandomForestClassifier(n_estimators=10)"
            ]
          },
          "metadata": {},
          "execution_count": 34
        }
      ]
    }
  ]
}